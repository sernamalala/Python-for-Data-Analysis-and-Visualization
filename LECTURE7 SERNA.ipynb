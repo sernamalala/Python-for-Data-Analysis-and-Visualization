{
 "cells": [
  {
   "cell_type": "code",
   "execution_count": 1,
   "id": "3259f360-0af4-4862-beae-aecdbecd992b",
   "metadata": {},
   "outputs": [],
   "source": [
    "import numpy as np"
   ]
  },
  {
   "cell_type": "code",
   "execution_count": 2,
   "id": "80fe9533-5ab5-4b99-a6d6-ad8e137df8ce",
   "metadata": {},
   "outputs": [],
   "source": [
    "my_list1 = [1,2,3,4,5]"
   ]
  },
  {
   "cell_type": "code",
   "execution_count": 9,
   "id": "ce38618c-5f60-450c-9c30-4729d19981cb",
   "metadata": {},
   "outputs": [],
   "source": [
    "my_array1 = np.array(my_list1)"
   ]
  },
  {
   "cell_type": "markdown",
   "id": "c6c0ba29-9d71-46b1-b876-1d7618fc27e7",
   "metadata": {},
   "source": [
    "#### TURNED LIST INTO AN ARRAY"
   ]
  },
  {
   "cell_type": "code",
   "execution_count": 4,
   "id": "c0109a5c-3b52-407d-8d8b-1a7e1a326cad",
   "metadata": {},
   "outputs": [
    {
     "data": {
      "text/plain": [
       "array([1, 2, 3, 4, 5])"
      ]
     },
     "execution_count": 4,
     "metadata": {},
     "output_type": "execute_result"
    }
   ],
   "source": [
    "my_array1"
   ]
  },
  {
   "cell_type": "code",
   "execution_count": 5,
   "id": "8c5834f4-d8d0-43eb-8c20-4fbdd4471e95",
   "metadata": {},
   "outputs": [],
   "source": [
    "my_list2 = [11,22,33,44,55]"
   ]
  },
  {
   "cell_type": "code",
   "execution_count": 6,
   "id": "7960acdd-062e-43f7-8c6d-cb5031adbd16",
   "metadata": {},
   "outputs": [],
   "source": [
    "my_lists = [my_list1,my_list2]"
   ]
  },
  {
   "cell_type": "markdown",
   "id": "89ad84f5-85f1-40f6-96e6-e7f07c846067",
   "metadata": {},
   "source": [
    "#### MULTIDIMENSIONAL LIST INTO AN ARRAY"
   ]
  },
  {
   "cell_type": "code",
   "execution_count": 7,
   "id": "4b0f3d70-8147-447d-b87b-2c0495e1799f",
   "metadata": {},
   "outputs": [],
   "source": [
    "my_array2 = np.array(my_lists)"
   ]
  },
  {
   "cell_type": "code",
   "execution_count": 11,
   "id": "6c5f2980-5b4b-4a19-a1fd-7713fe26accb",
   "metadata": {},
   "outputs": [
    {
     "data": {
      "text/plain": [
       "array([[ 1,  2,  3,  4,  5],\n",
       "       [11, 22, 33, 44, 55]])"
      ]
     },
     "execution_count": 11,
     "metadata": {},
     "output_type": "execute_result"
    }
   ],
   "source": [
    "my_array2"
   ]
  },
  {
   "cell_type": "code",
   "execution_count": 13,
   "id": "6cfa3697-2083-40ab-9974-f2f350b4954c",
   "metadata": {},
   "outputs": [
    {
     "data": {
      "text/plain": [
       "(2, 5)"
      ]
     },
     "execution_count": 13,
     "metadata": {},
     "output_type": "execute_result"
    }
   ],
   "source": [
    "my_array2.shape"
   ]
  },
  {
   "cell_type": "markdown",
   "id": "d50b70f3-eced-4b5f-abee-df9cee76674b",
   "metadata": {},
   "source": [
    "### shows row by column"
   ]
  },
  {
   "cell_type": "code",
   "execution_count": 14,
   "id": "af2c47a1-9073-4629-9711-882f6ff47cfb",
   "metadata": {},
   "outputs": [
    {
     "data": {
      "text/plain": [
       "dtype('int32')"
      ]
     },
     "execution_count": 14,
     "metadata": {},
     "output_type": "execute_result"
    }
   ],
   "source": [
    "my_array2.dtype"
   ]
  },
  {
   "cell_type": "code",
   "execution_count": 19,
   "id": "0999df20-6565-447f-8122-4a7aca9a186e",
   "metadata": {},
   "outputs": [],
   "source": [
    "my_zeros = np.zeros([3,3]) "
   ]
  },
  {
   "cell_type": "markdown",
   "id": "31be1392-fc27-4a2c-b044-27ab15c5f06f",
   "metadata": {},
   "source": [
    "### np.zeros gives a matrix of zeros"
   ]
  },
  {
   "cell_type": "code",
   "execution_count": 18,
   "id": "db6dfc65-8ad4-4dd3-ad04-e5021314038b",
   "metadata": {},
   "outputs": [
    {
     "data": {
      "text/plain": [
       "dtype('float64')"
      ]
     },
     "execution_count": 18,
     "metadata": {},
     "output_type": "execute_result"
    }
   ],
   "source": [
    "my_zeros.dtype"
   ]
  },
  {
   "cell_type": "code",
   "execution_count": 20,
   "id": "90979a52-73f8-46b3-b2e4-7022737f93bd",
   "metadata": {},
   "outputs": [
    {
     "data": {
      "text/plain": [
       "array([[0., 0., 0.],\n",
       "       [0., 0., 0.],\n",
       "       [0., 0., 0.]])"
      ]
     },
     "execution_count": 20,
     "metadata": {},
     "output_type": "execute_result"
    }
   ],
   "source": [
    "my_zeros"
   ]
  },
  {
   "cell_type": "markdown",
   "id": "00ba3f2e-61e1-480a-b9c3-c9cc2a6bc012",
   "metadata": {},
   "source": [
    "###### also ones"
   ]
  },
  {
   "cell_type": "code",
   "execution_count": 21,
   "id": "0f3debac-66a6-43fc-82b4-14fc1f1139b1",
   "metadata": {},
   "outputs": [],
   "source": [
    "my_ones = np.ones([5,5])"
   ]
  },
  {
   "cell_type": "code",
   "execution_count": 22,
   "id": "6daf41d1-8731-4241-a983-a1d934642b18",
   "metadata": {},
   "outputs": [
    {
     "data": {
      "text/plain": [
       "array([[1., 1., 1., 1., 1.],\n",
       "       [1., 1., 1., 1., 1.],\n",
       "       [1., 1., 1., 1., 1.],\n",
       "       [1., 1., 1., 1., 1.],\n",
       "       [1., 1., 1., 1., 1.]])"
      ]
     },
     "execution_count": 22,
     "metadata": {},
     "output_type": "execute_result"
    }
   ],
   "source": [
    "my_ones"
   ]
  },
  {
   "cell_type": "markdown",
   "id": "25e47d7a-37e6-49cf-af6a-535137914c58",
   "metadata": {},
   "source": [
    "#### create an array of ones"
   ]
  },
  {
   "cell_type": "code",
   "execution_count": 24,
   "id": "1e41cdda-f8d3-4d64-b5bf-ffddc3b78b2a",
   "metadata": {},
   "outputs": [],
   "source": [
    "my_identity = np.eye(3) #specify order only, cannot enter list [3,3]"
   ]
  },
  {
   "cell_type": "code",
   "execution_count": 25,
   "id": "4ea7fdf0-a9ac-4ab0-8f27-f9fcf457b5f9",
   "metadata": {},
   "outputs": [
    {
     "data": {
      "text/plain": [
       "array([[1., 0., 0.],\n",
       "       [0., 1., 0.],\n",
       "       [0., 0., 1.]])"
      ]
     },
     "execution_count": 25,
     "metadata": {},
     "output_type": "execute_result"
    }
   ],
   "source": [
    "my_identity"
   ]
  },
  {
   "cell_type": "markdown",
   "id": "d715869d-3b92-40f5-b728-cd572c339f67",
   "metadata": {},
   "source": [
    "##### create an identity matrix"
   ]
  },
  {
   "cell_type": "code",
   "execution_count": 26,
   "id": "fbd038a9-1eef-48d2-8ebf-8aab8b405195",
   "metadata": {},
   "outputs": [],
   "source": [
    "my_unique = np.arange(1,21)"
   ]
  },
  {
   "cell_type": "code",
   "execution_count": 27,
   "id": "d0773475-c5f4-4b6f-9542-fbd9c55599d9",
   "metadata": {},
   "outputs": [
    {
     "data": {
      "text/plain": [
       "array([ 1,  2,  3,  4,  5,  6,  7,  8,  9, 10, 11, 12, 13, 14, 15, 16, 17,\n",
       "       18, 19, 20])"
      ]
     },
     "execution_count": 27,
     "metadata": {},
     "output_type": "execute_result"
    }
   ],
   "source": [
    "my_unique"
   ]
  },
  {
   "cell_type": "markdown",
   "id": "62c45627-f06a-45d2-9ddb-b286f99c08f7",
   "metadata": {},
   "source": [
    "##### arrays can be created using a-range funfction by indicating a start,stop and count"
   ]
  },
  {
   "cell_type": "code",
   "execution_count": null,
   "id": "f757f5cd-9da0-40c4-b2c0-6dec34990c5a",
   "metadata": {},
   "outputs": [],
   "source": []
  }
 ],
 "metadata": {
  "kernelspec": {
   "display_name": "Python 3 (ipykernel)",
   "language": "python",
   "name": "python3"
  },
  "language_info": {
   "codemirror_mode": {
    "name": "ipython",
    "version": 3
   },
   "file_extension": ".py",
   "mimetype": "text/x-python",
   "name": "python",
   "nbconvert_exporter": "python",
   "pygments_lexer": "ipython3",
   "version": "3.9.13"
  }
 },
 "nbformat": 4,
 "nbformat_minor": 5
}
